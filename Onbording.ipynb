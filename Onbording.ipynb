{
 "cells": [
  {
   "cell_type": "markdown",
   "metadata": {},
   "source": [
    "- Onboarding - automated presentation of product and introduction to the working process with product\n",
    "    - goal - is to show value of product to user and as soon as possible help user to achieve first success\n",
    "    - this in turn should then lead to increase of profit. Success of client brings success to the company, since when user understands the value of product, user is ready to pay for it\n",
    "    - we can give opportunity to user to test the most effective and simple part of the product. It should be:\n",
    "        - simple\n",
    "        - demonstrate part of functionality of the product\n",
    "        - help from very beginning to solve problems for user"
   ]
  },
  {
   "cell_type": "markdown",
   "metadata": {},
   "source": [
    "Onboarding is very important:\n",
    "- 75% in average are ready to move to competitors, if their first experience will be difficult (takes long time to start working with it or it takes a long time to gain value from using it)\n",
    "- 65% say that onboarding is one of the most important factors for making decision to buy a product\n",
    "- 50% of users return product because they did not understand how to use the product    \n",
    "\n",
    "\n",
    "Marketing brings effective traffic to product, look for problems to solve to create conversion offers. Big amount of resources is spent to bring clients, but they then leave. Why?\n",
    "  \n",
    "Smart Onboarding helps to:\n",
    "- decreases churn\n",
    "    - Some times it is because we may be so in love with out product that we may want to tell about all features instantly, however client can be lost and then gone.\n",
    "    - Onboarding helps to take client by the hand and then smoothly show the product and how to use it.\n",
    "    - Client will be satisfied if he/she will not spend too much time tying to understand how product works and solve the problem with minimum effort.|\n",
    "- bring new clients:\n",
    "  - if client meets requirements, they will tell other about the product\n",
    "- make them regular customers\n",
    "- make them to fans of brand\n",
    "- increase NPS\n",
    "- faster activate users\n",
    "  - client is ready to use any instruments in business if he/she understands how to tune then and what they will give"
   ]
  },
  {
   "cell_type": "markdown",
   "metadata": {},
   "source": [
    "# What we need for an effective onboarding"
   ]
  },
  {
   "cell_type": "markdown",
   "metadata": {},
   "source": [
    "1. Determine goals of onboarding\n",
    "    - we need to understand why we need it and what it will give us, and create SMART goals\n",
    "    - in Our case, since we already have Onboarding, we want to improve it:\n",
    "        - we need to understand what each improvement will bring\n",
    "        - which metrics will be used\n",
    "        - for example, we may create the following SMART task: *increase conversion into payment after trial period on 25% to the end of the Year*"
   ]
  },
  {
   "cell_type": "markdown",
   "metadata": {},
   "source": [
    "2. Study business field and competitors:\n",
    "    - if there are competitors which are really good in client service, we can monitor what we like in their product onboarding and why\n",
    "    - we can monitor what and how they make changes\n",
    "        - what instruments they use for onboarding:\n",
    "            - pop-ups, emails, push-notifications\n",
    "        - in which stages they open access to the service\n",
    "        - in which format they deliver information (text, video, pictures)\n",
    "        - tone of voice - how they talk to client"
   ]
  },
  {
   "cell_type": "markdown",
   "metadata": {},
   "source": [
    "3. Collect problems of your clients:\n",
    "    - it is the most important to start from users problems\n",
    "        - we can use technical support data,\n",
    "        - sales department\n",
    "    - after collecting problems we can try to guess how we can solve them using onboarding"
   ]
  },
  {
   "cell_type": "markdown",
   "metadata": {},
   "source": [
    "4. We need to detect on what stages users have problems with product\n",
    "- when they leave more often and more often write into Customer Service\n",
    "    - for that we can use Events funnels and Heat Maps\n",
    "    - We can take a look where on such stages was their cursor, they might be looking for an advice in that place"
   ]
  },
  {
   "cell_type": "markdown",
   "metadata": {},
   "source": [
    "5. Product researches\n",
    "    - what is success for users\n",
    "    - what value we need to show at first\n",
    "    - when and how they understand that the product is useful  \n",
    "\n",
    "We can use qualitative and quantitative researches\n",
    "- Qualitative Research:\n",
    "    - deep interviews\n",
    "    - feedback analysis\n",
    "    - intervals tests\n",
    "    - usability tests  \n",
    "for example after series of deep interviews we can make hypotheses about what is the success for user\n",
    "\n",
    "- Qualitative Research:\n",
    "    - quiz questions\n",
    "    - data analysis\n",
    "        - statistically significant differences when testing hypotheses\n",
    "        - goal is to make decisions based on statistically correct information"
   ]
  },
  {
   "cell_type": "markdown",
   "metadata": {},
   "source": [
    "6. Determine metrics of effectiveness of Onboarding\n",
    "    - to understand how effective users are activated, we need to monitor key metrics, which will show real behavior of users\n",
    "        - Churn Rate\n",
    "        - LTV (Lifetime Value) - profit that user generated during whole time of work\n",
    "        - Customer Retention rate\n",
    "        - NPS - Net Promoter Score"
   ]
  },
  {
   "cell_type": "markdown",
   "metadata": {},
   "source": [
    "7. How many scenarios are needed for onboarding:\n",
    "- we may have only one scenario of onboarding for all users or\n",
    "- different scenarios of onboarding for different segments:\n",
    "  - CEO\n",
    "  - Marketing Manager\n",
    "  - Sales directors\n",
    "  - Technical Directors"
   ]
  },
  {
   "cell_type": "markdown",
   "metadata": {},
   "source": []
  }
 ],
 "metadata": {
  "kernelspec": {
   "display_name": "Python 3.10.8 64-bit",
   "language": "python",
   "name": "python3"
  },
  "language_info": {
   "name": "python",
   "version": "3.10.8"
  },
  "orig_nbformat": 4,
  "vscode": {
   "interpreter": {
    "hash": "26de051ba29f2982a8de78e945f0abaf191376122a1563185a90213a26c5da77"
   }
  }
 },
 "nbformat": 4,
 "nbformat_minor": 2
}
